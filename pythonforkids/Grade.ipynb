{
 "cells": [
  {
   "cell_type": "markdown",
   "metadata": {},
   "source": [
    "<center><h1>Grade</h1></center>"
   ]
  },
  {
   "cell_type": "markdown",
   "metadata": {},
   "source": [
    "<h2><font color='blue'>Obtain the scores of your assignments and projects</font></h2>"
   ]
  },
  {
   "cell_type": "code",
   "execution_count": 3,
   "metadata": {},
   "outputs": [
    {
     "name": "stdout",
     "output_type": "stream",
     "text": [
      "scp: /home/hchen/.cache: not a regular file\n",
      "          Assignment               Grade\n",
      "                   1                 100\n",
      "                   2                   0\n",
      "                   3                   0\n",
      "                   4                   0\n",
      "                   5                   0\n",
      "                   6                   0\n",
      "                   7                   0\n",
      "                   8                   0\n",
      "                   9                   0\n",
      "                  10                   0\n",
      "\n",
      "             Project               Grade\n",
      "                   0                   0\n",
      "                   1                   0\n",
      "                   2                   0\n",
      "                   3                   0\n",
      "                   4                   0\n",
      "                   5                   0\n",
      "                   6                   0\n",
      "                   7                   0\n",
      "                   8                   0\n",
      "                   9                   0\n"
     ]
    }
   ],
   "source": [
    "# submit your assignment\n",
    "import paramiko\n",
    "from paramiko import SSHClient\n",
    "from scp import SCPClient\n",
    "\n",
    "# put your username and password here\n",
    "yourUserName = ''\n",
    "yourPassword = ''\n",
    "\n",
    "ssh = SSHClient()\n",
    "ssh.load_system_host_keys()\n",
    "ssh.set_missing_host_key_policy(paramiko.AutoAddPolicy())\n",
    "ssh.connect('ecsumcs.eastus.cloudapp.azure.com', port=22, username=yourUserName, password=yourPassword)\n",
    "\n",
    "# Download the assignment grade to local\n",
    "scp = SCPClient(ssh.get_transport())\n",
    "sftp = ssh.open_sftp()\n",
    "files = sftp.listdir(path='/home/'+yourUserName)\n",
    "for f in files:\n",
    "    try:\n",
    "        scp.get('/home/'+yourUserName+\"/\"+f)\n",
    "    except Exception, err:\n",
    "        print err\n",
    "        \n",
    "scp.close()\n",
    "\n",
    "# Display your assignment grades\n",
    "import csv\n",
    "with open('AGrade.csv', 'rb') as f:\n",
    "    reader = csv.reader(f)\n",
    "    l = list(reader)\n",
    "    print \"%20s%20s\" % (\"Assignment\", \"Grade\")\n",
    "    for grade in l:\n",
    "        print \"%20s%20s\" % (grade[0], grade[1])\n",
    "\n",
    "print \n",
    "\n",
    "# Display your assignment grades\n",
    "import csv\n",
    "with open('PGrade.csv', 'rb') as f:\n",
    "    reader = csv.reader(f)\n",
    "    l = list(reader)\n",
    "    print \"%20s%20s\" % (\"Project\", \"Grade\")\n",
    "    for grade in l:\n",
    "        print \"%20s%20s\" % (grade[0], grade[1])"
   ]
  }
 ],
 "metadata": {
  "kernelspec": {
   "display_name": "Python 2",
   "language": "python",
   "name": "python2"
  },
  "language_info": {
   "codemirror_mode": {
    "name": "ipython",
    "version": 2
   },
   "file_extension": ".py",
   "mimetype": "text/x-python",
   "name": "python",
   "nbconvert_exporter": "python",
   "pygments_lexer": "ipython2",
   "version": "2.7.13"
  }
 },
 "nbformat": 4,
 "nbformat_minor": 2
}
