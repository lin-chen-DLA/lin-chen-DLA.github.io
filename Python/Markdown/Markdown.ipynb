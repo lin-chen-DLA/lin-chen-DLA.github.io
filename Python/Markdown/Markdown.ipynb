{
 "cells": [
  {
   "cell_type": "markdown",
   "metadata": {
    "nbpresent": {
     "id": "eb10d732-f8f6-4cc2-b16e-023f27919500"
    }
   },
   "source": [
    "Header\n",
    "=======\n",
    "* Setext-style headers are “underlined” using equal signs (for first-level headers) and dashes (for second-level headers)\n",
    "* Atx-style headers use 1-6 hash characters at the start of the line, corresponding to header levels 1-6"
   ]
  },
  {
   "cell_type": "markdown",
   "metadata": {
    "nbpresent": {
     "id": "ffaf1674-70d1-4136-96af-c26f792b6226"
    }
   },
   "source": [
    "Header\n",
    "========\n",
    "Header\n",
    "--------\n",
    "# Header &lt;h1&gt;\n",
    "## Header &lt;h2&gt;"
   ]
  },
  {
   "cell_type": "markdown",
   "metadata": {
    "nbpresent": {
     "id": "94a53cec-2de0-4030-8425-f2d4d83eb6a0"
    }
   },
   "source": [
    "Header\n",
    "========\n",
    "Header\n",
    "--------\n",
    "# Header &lt;h1&gt;\n",
    "## Header &lt;h2&gt;"
   ]
  },
  {
   "cell_type": "markdown",
   "metadata": {
    "nbpresent": {
     "id": "b02b7c08-c47f-47f8-9e98-97d4260fe68f"
    }
   },
   "source": [
    "Emphasis\n",
    "========\n",
    "* Bold, ** or __\n",
    "* Italic, * or _"
   ]
  },
  {
   "cell_type": "markdown",
   "metadata": {
    "nbpresent": {
     "id": "26f7e16a-356b-4c8f-a65c-70a75a012250"
    }
   },
   "source": [
    "**Bold**  \n",
    "__Bold__\n",
    "*Italic*<br>\n",
    "_Italic_"
   ]
  },
  {
   "cell_type": "markdown",
   "metadata": {
    "nbpresent": {
     "id": "af0abc4a-6aee-4bf9-8694-6b94e2f3e68b"
    }
   },
   "source": [
    "**Bold**  \n",
    "__Bold__\n",
    "*Italic*<br>\n",
    "_Italic_"
   ]
  },
  {
   "cell_type": "markdown",
   "metadata": {
    "nbpresent": {
     "id": "18a0620e-3b3f-4bf7-98e9-54b612833857"
    }
   },
   "source": [
    "HTML\n",
    "====\n",
    "Use html in markdown directly"
   ]
  },
  {
   "cell_type": "code",
   "execution_count": null,
   "metadata": {
    "collapsed": true,
    "nbpresent": {
     "id": "3c06d53f-6171-4fcd-a29e-4b07bd833ff2"
    }
   },
   "outputs": [],
   "source": [
    "<table>\n",
    "    <tr><th>Name</th><th>Age</th></tr>\n",
    "</table>"
   ]
  },
  {
   "cell_type": "markdown",
   "metadata": {
    "nbpresent": {
     "id": "105d7762-b615-400e-990c-79116a5366bb"
    }
   },
   "source": [
    "<table>\n",
    "    <tr><th>Name</th><th>Age</th></tr>\n",
    "</table>"
   ]
  },
  {
   "cell_type": "markdown",
   "metadata": {
    "nbpresent": {
     "id": "6315060e-a0bb-4af4-a70a-d37bab207078"
    }
   },
   "source": [
    "List\n",
    "=====\n",
    "* Unordered lists use asterisks, pluses, and hyphens\n",
    "* Ordered lists use numbers followed by periods"
   ]
  },
  {
   "cell_type": "markdown",
   "metadata": {
    "nbpresent": {
     "id": "6699750c-9c00-44d8-9e1a-344d6667fe23"
    }
   },
   "source": [
    "* List 1\n",
    "* List 2\n",
    "    * Sub List 1\n",
    "    * Sub List 2\n",
    "+ List 1\n",
    "+ List 2\n",
    "    + Sub List 1\n",
    "    + Sub List 2\n",
    "- List 1\n",
    "- List 2\n",
    "    - Sub List 1\n",
    "    - Sub List 2\n",
    "1. List 1\n",
    "2. List 2\n",
    "    1. Sub List 1\n",
    "    2. Sub List 2"
   ]
  },
  {
   "cell_type": "markdown",
   "metadata": {
    "nbpresent": {
     "id": "105b1bec-327f-42b8-a3e1-6ae98b6de84b"
    }
   },
   "source": [
    "* List 1\n",
    "* List 2\n",
    "    * Sub List 1\n",
    "    * Sub List 2\n",
    "+ List 1\n",
    "+ List 2\n",
    "    + Sub List 1\n",
    "    + Sub List 2\n",
    "- List 1\n",
    "- List 2\n",
    "    - Sub List 1\n",
    "    - Sub List 2\n",
    "1. List 1\n",
    "2. List 2\n",
    "    1. Sub List 1\n",
    "    2. Sub List 2"
   ]
  },
  {
   "cell_type": "markdown",
   "metadata": {
    "nbpresent": {
     "id": "0ed31625-bc5f-4d1f-bf9e-d3c3f40d558a"
    }
   },
   "source": [
    "Image\n",
    "=====\n",
    "!\\[Alt Text\\]\\(url\\)"
   ]
  },
  {
   "cell_type": "markdown",
   "metadata": {
    "nbpresent": {
     "id": "210a14a9-7397-4033-a3e4-4b77b61ca8b7"
    }
   },
   "source": [
    "![Logo](https://pmcdeadline2.files.wordpress.com/2016/07/logo-tv-logo.png)"
   ]
  },
  {
   "cell_type": "markdown",
   "metadata": {
    "nbpresent": {
     "id": "b79efa39-fd20-47a4-b582-88065459517a"
    }
   },
   "source": [
    "Link\n",
    "====\n",
    "\\[GitHub\\]\\(http://github.com\\)  \n",
    "&lt;http://www.google.com &gt;"
   ]
  },
  {
   "cell_type": "markdown",
   "metadata": {
    "nbpresent": {
     "id": "01d7515d-ea35-405e-b5fc-1ef17d0a467d"
    }
   },
   "source": [
    "[Google](http://www.google.com)  \n",
    "<http://www.google.com>"
   ]
  },
  {
   "cell_type": "markdown",
   "metadata": {
    "nbpresent": {
     "id": "312ee6a1-53fa-48a7-9f6f-c11211c9c65b"
    }
   },
   "source": [
    "Block\n",
    "=====\n",
    "* \\>, blockquotes\n",
    "* four space or one tab, code block"
   ]
  },
  {
   "cell_type": "markdown",
   "metadata": {
    "nbpresent": {
     "id": "aa3dbc0c-9c63-45e0-af5a-7180aec3090d"
    }
   },
   "source": [
    "* Block\n",
    "> Block<br>\n",
    "> Block2\n",
    "\n",
    "* Block  \n",
    "        Block  \n",
    "        Block"
   ]
  },
  {
   "cell_type": "markdown",
   "metadata": {
    "nbpresent": {
     "id": "e966f611-999a-4efa-8626-7143a0225789"
    }
   },
   "source": [
    "New Link\n",
    "========\n",
    "* two more space at the end of the specific line\n",
    "* extra line between two lines"
   ]
  },
  {
   "cell_type": "markdown",
   "metadata": {
    "nbpresent": {
     "id": "043a422f-8e0c-4ab7-bcf8-6bbdb286efcb"
    }
   },
   "source": [
    "line 1  \n",
    "line 2"
   ]
  },
  {
   "cell_type": "markdown",
   "metadata": {
    "nbpresent": {
     "id": "64934b7e-5fe0-4f6d-bdba-a2802ae9790b"
    }
   },
   "source": [
    "Horizontal Line\n",
    "================\n",
    "* placing three or more hyphens, asterisks, or underscores on a line  \n",
    "\n",
    "\\*\\*\\*  \n",
    "\\_\\_\\_\\_"
   ]
  },
  {
   "cell_type": "markdown",
   "metadata": {
    "nbpresent": {
     "id": "4207aace-b173-4d34-8687-78705ee8ffa8"
    }
   },
   "source": [
    "Block\n",
    "***\n",
    "Block\n",
    "___\n",
    "Block"
   ]
  }
 ],
 "metadata": {
  "anaconda-cloud": {},
  "kernelspec": {
   "display_name": "Python [default]",
   "language": "python",
   "name": "python2"
  },
  "language_info": {
   "codemirror_mode": {
    "name": "ipython",
    "version": 2
   },
   "file_extension": ".py",
   "mimetype": "text/x-python",
   "name": "python",
   "nbconvert_exporter": "python",
   "pygments_lexer": "ipython2",
   "version": "2.7.12"
  },
  "nbpresent": {
   "slides": {
    "08cfebd9-bcdb-489b-bc74-020ae29f8adb": {
     "id": "08cfebd9-bcdb-489b-bc74-020ae29f8adb",
     "prev": "50a587a5-7071-468d-93e5-53a531bcdde7",
     "regions": {
      "1f449105-d906-4607-9250-bc31b24cba13": {
       "attrs": {
        "height": 0.2900369090953162,
        "width": 0.8,
        "x": 0.1,
        "y": 0.1
       },
       "content": {
        "cell": "18a0620e-3b3f-4bf7-98e9-54b612833857",
        "part": "source"
       },
       "id": "1f449105-d906-4607-9250-bc31b24cba13"
      },
      "8dae5338-4cc9-4b15-bb3f-ba27b8c4b4a1": {
       "attrs": {
        "height": 0.4656826493468717,
        "width": 0.4,
        "x": 0.5,
        "y": 0.43431735065312815
       },
       "content": {
        "cell": "105d7762-b615-400e-990c-79116a5366bb",
        "part": "source"
       },
       "id": "8dae5338-4cc9-4b15-bb3f-ba27b8c4b4a1"
      },
      "a90c42c2-bb0d-4557-9637-2dd0205d338e": {
       "attrs": {
        "height": 0.47121770454159817,
        "width": 0.4,
        "x": 0.1,
        "y": 0.4287822954584017
       },
       "content": {
        "cell": "3c06d53f-6171-4fcd-a29e-4b07bd833ff2",
        "part": "source"
       },
       "id": "a90c42c2-bb0d-4557-9637-2dd0205d338e"
      }
     }
    },
    "09136e14-6eaf-4d12-8222-625b53cad747": {
     "id": "09136e14-6eaf-4d12-8222-625b53cad747",
     "prev": null,
     "regions": {
      "2f3384ea-cf0e-443f-adfa-a4ad83b85d57": {
       "attrs": {
        "height": 0.4601475941521452,
        "width": 0.4,
        "x": 0.1,
        "y": 0.4398524058478547
       },
       "content": {
        "cell": "ffaf1674-70d1-4136-96af-c26f792b6226",
        "part": "source"
       },
       "id": "2f3384ea-cf0e-443f-adfa-a4ad83b85d57"
      },
      "436df6bc-1eda-4e13-a2ef-f57d2133bfc9": {
       "attrs": {
        "height": 0.3232472402636752,
        "width": 0.8,
        "x": 0.1,
        "y": 0.1
       },
       "content": {
        "cell": "eb10d732-f8f6-4cc2-b16e-023f27919500",
        "part": "source"
       },
       "id": "436df6bc-1eda-4e13-a2ef-f57d2133bfc9"
      },
      "8af028a2-3eb4-4678-a2f4-6ae3454f248f": {
       "attrs": {
        "height": 0.4435424285679658,
        "width": 0.4,
        "x": 0.5124538741881347,
        "y": 0.4453874610425811
       },
       "content": {
        "cell": "94a53cec-2de0-4030-8425-f2d4d83eb6a0",
        "part": "source"
       },
       "id": "8af028a2-3eb4-4678-a2f4-6ae3454f248f"
      }
     }
    },
    "1f49a6b1-392d-442a-9dfb-c23756eed39a": {
     "id": "1f49a6b1-392d-442a-9dfb-c23756eed39a",
     "prev": "08cfebd9-bcdb-489b-bc74-020ae29f8adb",
     "regions": {
      "33b0267c-c58e-4b18-96b9-4820398a8471": {
       "attrs": {
        "height": 0.5708486980466752,
        "width": 0.4,
        "x": 0.5,
        "y": 0.32915130195332476
       },
       "content": {
        "cell": "105b1bec-327f-42b8-a3e1-6ae98b6de84b",
        "part": "source"
       },
       "id": "33b0267c-c58e-4b18-96b9-4820398a8471"
      },
      "7998d27c-11a2-4605-82e0-cca603c43828": {
       "attrs": {
        "height": 0.5763837532414016,
        "width": 0.4,
        "x": 0.1,
        "y": 0.3236162467585983
       },
       "content": {
        "cell": "6699750c-9c00-44d8-9e1a-344d6667fe23",
        "part": "source"
       },
       "id": "7998d27c-11a2-4605-82e0-cca603c43828"
      },
      "96b74ea5-bb04-4166-8f07-d8ff21db1bba": {
       "attrs": {
        "height": 0.15719558442188034,
        "width": 0.8,
        "x": 0.1,
        "y": 0.1
       },
       "content": {
        "cell": "6315060e-a0bb-4af4-a70a-d37bab207078",
        "part": "source"
       },
       "id": "96b74ea5-bb04-4166-8f07-d8ff21db1bba"
      }
     }
    },
    "50a587a5-7071-468d-93e5-53a531bcdde7": {
     "id": "50a587a5-7071-468d-93e5-53a531bcdde7",
     "prev": "09136e14-6eaf-4d12-8222-625b53cad747",
     "regions": {
      "3ecadccf-0ba7-4dc9-94bf-5df3187e8f15": {
       "attrs": {
        "height": 0.4878228701257777,
        "width": 0.4,
        "x": 0.5,
        "y": 0.41217712987422217
       },
       "content": {
        "cell": "af0abc4a-6aee-4bf9-8694-6b94e2f3e68b",
        "part": "source"
       },
       "id": "3ecadccf-0ba7-4dc9-94bf-5df3187e8f15"
      },
      "e089ebeb-d485-42a6-ad4f-0d3767808c34": {
       "attrs": {
        "height": 0.2955719642900427,
        "width": 0.8,
        "x": 0.1,
        "y": 0.1
       },
       "content": {
        "cell": "b02b7c08-c47f-47f8-9e98-97d4260fe68f",
        "part": "source"
       },
       "id": "e089ebeb-d485-42a6-ad4f-0d3767808c34"
      },
      "f769f322-2ee6-4633-ac4a-1dfae52d818d": {
       "attrs": {
        "height": 0.4878228701257777,
        "width": 0.4,
        "x": 0.1,
        "y": 0.41217712987422217
       },
       "content": {
        "cell": "26f7e16a-356b-4c8f-a65c-70a75a012250",
        "part": "source"
       },
       "id": "f769f322-2ee6-4633-ac4a-1dfae52d818d"
      }
     }
    },
    "7b8c54d4-45b4-43cf-84f2-516b9f06a9cb": {
     "id": "7b8c54d4-45b4-43cf-84f2-516b9f06a9cb",
     "prev": "f7d3290d-6581-4cbf-9ee5-6f6dc2810290",
     "regions": {
      "19ede5d9-a828-41ae-a6de-1883a5f15244": {
       "attrs": {
        "height": 0.8,
        "width": 0.45,
        "x": 0.5,
        "y": 0.1
       },
       "content": {
        "cell": "aa3dbc0c-9c63-45e0-af5a-7180aec3090d",
        "part": "source"
       },
       "id": "19ede5d9-a828-41ae-a6de-1883a5f15244"
      },
      "763818b9-dd42-40c8-8896-8d2bef9ee4b4": {
       "attrs": {
        "height": 0.8,
        "width": 0.45,
        "x": 0.05,
        "y": 0.1
       },
       "content": {
        "cell": "312ee6a1-53fa-48a7-9f6f-c11211c9c65b",
        "part": "source"
       },
       "id": "763818b9-dd42-40c8-8896-8d2bef9ee4b4"
      }
     }
    },
    "8865813a-e309-4b48-9437-7eab98808f33": {
     "id": "8865813a-e309-4b48-9437-7eab98808f33",
     "prev": "d7cb289f-ca0a-41c5-a012-c52cec7df316",
     "regions": {
      "389f66ac-1a04-48a6-b5fe-94b8b9748e4e": {
       "attrs": {
        "height": 0.8,
        "width": 0.45,
        "x": 0.5,
        "y": 0.1
       },
       "content": {
        "cell": "4207aace-b173-4d34-8687-78705ee8ffa8",
        "part": "source"
       },
       "id": "389f66ac-1a04-48a6-b5fe-94b8b9748e4e"
      },
      "61f4d27b-2e61-4fb0-8f50-f47db27cd65a": {
       "attrs": {
        "height": 0.8,
        "width": 0.45,
        "x": 0.05,
        "y": 0.1
       },
       "content": {
        "cell": "64934b7e-5fe0-4f6d-bdba-a2802ae9790b",
        "part": "source"
       },
       "id": "61f4d27b-2e61-4fb0-8f50-f47db27cd65a"
      }
     }
    },
    "d7cb289f-ca0a-41c5-a012-c52cec7df316": {
     "id": "d7cb289f-ca0a-41c5-a012-c52cec7df316",
     "prev": "7b8c54d4-45b4-43cf-84f2-516b9f06a9cb",
     "regions": {
      "4970c4fd-c0b0-454b-8af9-88a8b4872e6c": {
       "attrs": {
        "height": 0.8,
        "width": 0.45,
        "x": 0.5,
        "y": 0.1
       },
       "content": {
        "cell": "043a422f-8e0c-4ab7-bcf8-6bbdb286efcb",
        "part": "source"
       },
       "id": "4970c4fd-c0b0-454b-8af9-88a8b4872e6c"
      },
      "9569db2d-0e52-44fc-b1d0-9835f018d7a8": {
       "attrs": {
        "height": 0.8,
        "width": 0.45,
        "x": 0.05,
        "y": 0.1
       },
       "content": {
        "cell": "e966f611-999a-4efa-8626-7143a0225789",
        "part": "source"
       },
       "id": "9569db2d-0e52-44fc-b1d0-9835f018d7a8"
      }
     }
    },
    "e07d4dbd-fe2d-4b57-82fa-feef4b74c55a": {
     "id": "e07d4dbd-fe2d-4b57-82fa-feef4b74c55a",
     "prev": "1f49a6b1-392d-442a-9dfb-c23756eed39a",
     "regions": {
      "527e4995-424f-4ffa-a736-d99847b4a6dc": {
       "attrs": {
        "height": 0.8,
        "width": 0.5838791475224472,
        "x": 0.3661208524775529,
        "y": 0.1
       },
       "content": {
        "cell": "210a14a9-7397-4033-a3e4-4b77b61ca8b7",
        "part": "source"
       },
       "id": "527e4995-424f-4ffa-a736-d99847b4a6dc"
      },
      "664cf18d-5321-472c-b2a0-53e73959c82b": {
       "attrs": {
        "height": 0.8,
        "width": 0.29121310410128376,
        "x": 0.05,
        "y": 0.1
       },
       "content": {
        "cell": "0ed31625-bc5f-4d1f-bf9e-d3c3f40d558a",
        "part": "source"
       },
       "id": "664cf18d-5321-472c-b2a0-53e73959c82b"
      }
     }
    },
    "f7d3290d-6581-4cbf-9ee5-6f6dc2810290": {
     "id": "f7d3290d-6581-4cbf-9ee5-6f6dc2810290",
     "prev": "e07d4dbd-fe2d-4b57-82fa-feef4b74c55a",
     "regions": {
      "a2bbf61b-1812-4baa-a1dd-c2e761f319b3": {
       "attrs": {
        "height": 0.8,
        "width": 0.45,
        "x": 0.5,
        "y": 0.1
       },
       "content": {
        "cell": "01d7515d-ea35-405e-b5fc-1ef17d0a467d",
        "part": "source"
       },
       "id": "a2bbf61b-1812-4baa-a1dd-c2e761f319b3"
      },
      "f88ef60b-516c-436c-aaae-2ba20b7deae3": {
       "attrs": {
        "height": 0.8,
        "width": 0.45,
        "x": 0.05,
        "y": 0.1
       },
       "content": {
        "cell": "b79efa39-fd20-47a4-b582-88065459517a",
        "part": "source"
       },
       "id": "f88ef60b-516c-436c-aaae-2ba20b7deae3"
      }
     }
    }
   },
   "themes": {}
  }
 },
 "nbformat": 4,
 "nbformat_minor": 1
}
